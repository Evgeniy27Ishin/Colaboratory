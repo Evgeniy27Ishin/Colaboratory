{
  "cells": [
    {
      "cell_type": "markdown",
      "metadata": {
        "id": "view-in-github",
        "colab_type": "text"
      },
      "source": [
        "<a href=\"https://colab.research.google.com/github/Evgeniy27Ishin/Colaboratory/blob/main/bukva.ipynb\" target=\"_parent\"><img src=\"https://colab.research.google.com/assets/colab-badge.svg\" alt=\"Open In Colab\"/></a>"
      ]
    },
    {
      "cell_type": "code",
      "source": [
        "import numpy as np\n",
        "import scipy\n",
        "\n",
        "\n",
        "I = np.array(([0.9, 0.1, 0.8]), ndmin=2).T\n",
        "t = np.array(([0.2, 0.09, 0.5]), ndmin=2).T\n",
        "W_i_h = np.array([[0.9, 0.3, 0.4], [0.2, 0.8, 0.2], [0.1, 0.5, 0.6]])\n",
        "W_h_o = np.array([[0.3, 0.7, 0.5], [0.6, 0.5, 0.2], [0.8, 0.1, 0.9]])\n",
        "\n",
        "for i in range(10000):\n",
        "  O_h = W_i_h.dot(I)\n",
        "  O_h = scipy.special.expit(O_h)\n",
        "  O = W_h_o.dot(O_h)\n",
        "  O = scipy.special.expit(O)\n",
        "\n",
        "  E_o = t - O\n",
        "  E_h = np.dot(W_h_o.T, E_o)\n",
        "  W_h_o += 0.1 * E_o * O * (1 - O) * O_h.T\n",
        "  W_i_h += 0.1 * E_h * O_h * (1 - O_h) * I.T\n",
        "\n",
        "print(O)"
      ],
      "metadata": {
        "id": "jpfZqSO-SlM1",
        "outputId": "017eb625-f07a-4107-f227-2683d3c01dda",
        "colab": {
          "base_uri": "https://localhost:8080/"
        }
      },
      "execution_count": 17,
      "outputs": [
        {
          "output_type": "stream",
          "name": "stdout",
          "text": [
            "[[0.2 ]\n",
            " [0.09]\n",
            " [0.5 ]]\n"
          ]
        }
      ]
    },
    {
      "cell_type": "code",
      "source": [
        "import numpy as np\n",
        "import scipy\n",
        "\n",
        "class NeuralNetwork:\n",
        "  def __init__(self, input_nodes, hidden_nodes, output_nodes, learning_rate):\n",
        "    self.input_nodes = input_nodes\n",
        "    self.hidden_nodes = hidden_nodes\n",
        "    self.output_nodes = output_nodes\n",
        "    self.learning_rate = learning_rate\n",
        "\n",
        "    np.random.seed(42)\n",
        "    self.W_i_h = np.random.normal(0.01, 0.99, (self.hidden_nodes, self.input_nodes))\n",
        "    self.W_h_o = np.random.normal(0.01, 0.99, (self.output_nodes, self.hidden_nodes))\n",
        "\n",
        "    self.lr = learning_rate\n",
        "\n",
        "    self.activation_function = lambda x: scipy.special.expit(x)\n",
        "\n",
        "  def forward(self, inputs):\n",
        "    inputs = np.array(inputs, ndmin=2).T\n",
        "    O_h = self.W_i_h.dot(I)\n",
        "    O_h = scipy.special.expit(O_h)\n",
        "    O = self.W_h_o.dot(O_h)\n",
        "    O = scipy.special.expit(O)\n",
        "    return O\n",
        "\n",
        "  def train (self, inputs_list, targets_list):\n",
        "    inputs = np.array(inputs_list, ndmin=2).T\n",
        "    targets = np.array(targets_list)\n",
        "    hidden_inputs = np.dot(self.W_i_h, inputs)\n",
        "    hidden_outputs = self.activation_function(hidden_inputs)\n",
        "    final_inputs = np.dot(self.W_h_o, hidden_outputs)\n",
        "    final_outputs = self.activation_function(final_inputs)\n",
        "    output_errors = targets - final_outputs\n",
        "    hidden_errors = np.dot(self.W_h_o.T, output_errors)\n",
        "    self.W_h_o += self.lr * np.dot((output_errors * final_outputs * (1.0 - final_outputs)),np.transpose(hidden_outputs))\n",
        "    self.W_i_h += self.lr * np.dot((hidden_errors * hidden_outputs * (1.0 - hidden_outputs)),np.transpose(inputs))\n",
        "\n",
        "  def query(self, inputs_list):\n",
        "    inputs = np.array(inputs_list, ndmin=2).T\n",
        "    hidden_inputs = np.dot(self.W_i_h, inputs)\n",
        "    hidden_outputs = self.activation_function(hidden_inputs)\n",
        "    final_inputs = np.dot(self.W_h_o, hidden_outputs)\n",
        "    final_outputs = self.activation_function(final_inputs)\n",
        "    return final_outputs\n",
        "\n",
        "s1 =  {'title': 'A', 'points': [0,0,1,0,0,0,1,0,1,0,1,0,0,0,1,1,1,1,1,1,1,0,0,0,1,1,0,0,0,1], 'targets': [[1],[0],[0],[0],[0],[0],[0],[0],[0],[0],[0],[0],[0],[0],[0],[0],[0],[0],[0],[0],[0],[0],[0],[0],[0],[0],[0],[0],[0],[0],[0],[0],[0]]}\n",
        "s2 =  {'title': 'Б', 'points': [1,1,1,1,1,1,0,0,0,0,1,1,1,1,0,1,0,0,0,1,1,0,0,0,1,1,1,1,1,0], 'targets': [[0],[1],[0],[0],[0],[0],[0],[0],[0],[0],[0],[0],[0],[0],[0],[0],[0],[0],[0],[0],[0],[0],[0],[0],[0],[0],[0],[0],[0],[0],[0],[0],[0]]}\n",
        "s5 =  {'title': 'Д', 'points': [0,1,1,1,0,0,1,0,1,0,1,1,1,1,1,1,0,0,0,1,1,0,0,0,1,1,0,0,0,1], 'targets': [[0],[0],[0],[0],[1],[0],[0],[0],[0],[0],[0],[0],[0],[0],[0],[0],[0],[0],[0],[0],[0],[0],[0],[0],[0],[0],[0],[0],[0],[0],[0],[0],[0]]}\n",
        "s10 = {'title': 'И', 'points': [1,0,0,0,1,1,0,0,1,1,1,0,1,0,1,1,0,1,0,1,1,1,0,0,1,1,0,0,0,1], 'targets': [[0],[0],[0],[0],[0],[0],[0],[0],[0],[1],[0],[0],[0],[0],[0],[0],[0],[0],[0],[0],[0],[0],[0],[0],[0],[0],[0],[0],[0],[0],[0],[0],[0],]}\n",
        "s12 = {'title': 'К', 'points': [1,0,0,1,0,1,0,1,0,0,1,1,0,0,0,1,1,0,0,0,1,0,1,0,0,1,0,0,1,0], 'targets': [[0], [0], [0], [0], [0], [0], [0], [0], [0], [0], [0], [1], [0], [0], [0], [0], [0], [0], [0], [0], [0], [0], [0], [0], [0], [0], [0], [0], [0], [0], [0], [0], [0]]}\n",
        "s12 = {'title': 'К', 'points': [1,0,0,1,0,1,0,1,0,0,1,1,0,0,0,1,1,0,0,0,1,0,1,0,0,1,0,0,1,0], 'targets': [[0], [0], [0], [0], [0], [0], [0], [0], [0], [0], [0], [1], [0], [0], [0], [0], [0], [0], [0], [0], [0], [0], [0], [0], [0], [0], [0], [0], [0], [0], [0], [0], [0]]}\n",
        "s20 = {'title': 'Т', 'points': [1,1,1,1,1,0,0,1,0,0,0,0,1,0,0,0,0,1,0,0,0,0,1,0,0,0,0,1,0,0], 'targets': [[0],[0],[0],[0],[0],[0],[0],[0],[0],[0],[0],[0],[0],[0],[0],[0],[0],[0],[0],[1],[0],[0],[0],[0],[0],[0],[0],[0],[0],[0],[0],[0],[0],]}\n",
        "s25 = {'title': 'Ч', 'points': [1,0,0,1,0,1,0,0,1,0,1,0,0,1,0,1,1,1,1,0,0,0,0,1,0,0,0,0,1,0], 'targets': [[0], [0], [0], [0], [0], [0], [0], [0], [0], [0], [0], [0], [0], [0], [0], [0], [0], [0], [0], [0], [0], [0], [0], [0], [0], [1], [0], [0], [0], [0], [0], [0], [0]]}\n",
        "\n",
        "net = NeuralNetwork(30, 20, 33, 0.1)\n",
        "\n",
        "for i in range(500):\n",
        "  net.train(s1['points'], s1['targets'])\n",
        "  net.train(s2['points'], s2['targets'])\n",
        "  net.train(s5['points'], s5['targets'])\n",
        "  net.train(s10['points'], s10['targets'])\n",
        "  net.train(s12['points'], s12['targets'])\n",
        "  net.train(s13['points'], s13['targets'])\n",
        "  net.train(s20['points'], s20['targets'])\n",
        "  net.train(s25['points'], s25['targets'])"
      ],
      "metadata": {
        "id": "riZdpyg2MDTT"
      },
      "execution_count": 193,
      "outputs": []
    },
    {
      "cell_type": "code",
      "source": [
        "alphabet = {1:'А', 2:'Б', 3:'В', 4:'Г', 5:'Д', 6:'Е', 7:'Ё', 8:'Ж', 9:'З', 10:'И', 11:'Й', 12:'К', 13:'Л', 14:'М', 15:'Н', 16:'О', 17:'П', 18:'Р', 19:'С', 20:'Т', 21:'У', 22:'Ф', 23:'Х', 24:'Ц', 25:'Ч', 26:'Ш', 27:'Щ', 28:'Ъ', 29:'Ы', 30:'Ь', 31:'Э', 32:'Ю', 33:'Я'}\n",
        "res = net.query(s10['points'])\n",
        "position = np.argmax(res)\n",
        "sym = alphabet[position+1]\n",
        "print(f'Это букв: {sym}')"
      ],
      "metadata": {
        "id": "0xubloHrf_1e",
        "outputId": "326685db-9b73-45e2-d3eb-fcb2c162bdb3",
        "colab": {
          "base_uri": "https://localhost:8080/"
        }
      },
      "execution_count": 192,
      "outputs": [
        {
          "output_type": "stream",
          "name": "stdout",
          "text": [
            "Это букв: И\n"
          ]
        }
      ]
    },
    {
      "cell_type": "code",
      "source": [
        "import matplotlib.pyplot as plt\n",
        "import matplotlib.patches\n",
        "\n",
        "class Symbol:\n",
        "  def __init__(self, symbol):\n",
        "    self.width = 5\n",
        "    self.height = 6\n",
        "    self.title = symbol['title']\n",
        "    self.points = symbol['points']\n",
        "    self.targets = symbol['targets']\n",
        "    plt.xlim(0, self.width)\n",
        "    plt.ylim(0, self.height)\n",
        "    plt.grid()\n",
        "\n",
        "    self.axes = plt.gca()\n",
        "    self.axes.set_aspect(\"equal\")\n",
        "\n",
        "  def to_matrix(self):\n",
        "    matrix = []\n",
        "    x = self.points\n",
        "    while x != []:\n",
        "        matrix.append(x[:1])\n",
        "        x = x[1:]\n",
        "\n",
        "    return matrix\n",
        "\n",
        "  def show(self):\n",
        "    rect_width = 1.0\n",
        "    rect_height = 1.0\n",
        "\n",
        "    k = self.height-1\n",
        "    for i in range(self.width+1):\n",
        "      for j in range(self.height-1):\n",
        "        if self.points[i*self.width + j] == 1:\n",
        "          rect_coord = (j, k)\n",
        "          rect = matplotlib.patches.Rectangle(rect_coord,rect_width,rect_height,color=\"black\")\n",
        "          self.axes.add_patch(rect)\n",
        "      k -= 1\n",
        "    plt.show()\n",
        "\n",
        "s1 =  {'title': 'A', 'points': [0,0,1,0,0,0,1,0,1,0,1,0,0,0,1,1,1,1,1,1,1,0,0,0,1,1,0,0,0,1], 'targets': [[1],[0],[0],[0],[0],[0],[0],[0],[0],[0],[0],[0],[0],[0],[0],[0],[0],[0],[0],[0],[0],[0],[0],[0],[0],[0],[0],[0],[0],[0],[0],[0],[0]]}\n",
        "s2 =  {'title': 'Б', 'points': [1,1,1,1,1,1,0,0,0,0,1,1,1,1,0,1,0,0,0,1,1,0,0,0,1,1,1,1,1,0], 'targets': [[0],[1],[0],[0],[0],[0],[0],[0],[0],[0],[0],[0],[0],[0],[0],[0],[0],[0],[0],[0],[0],[0],[0],[0],[0],[0],[0],[0],[0],[0],[0],[0],[0]]}\n",
        "s5 =  {'title': 'Д', 'points': [0,1,1,1,0,0,1,0,1,0,1,1,1,1,1,1,0,0,0,1,1,0,0,0,1,1,0,0,0,1], 'targets': [[0],[0],[0],[0],[1],[0],[0],[0],[0],[0],[0],[0],[0],[0],[0],[0],[0],[0],[0],[0],[0],[0],[0],[0],[0],[0],[0],[0],[0],[0],[0],[0],[0]]}\n",
        "s10 = {'title': 'И', 'points': [1,0,0,0,1,1,0,0,1,1,1,0,1,0,1,1,0,1,0,1,1,1,0,0,1,1,0,0,0,1], 'targets': [[0],[0],[0],[0],[0],[0],[0],[0],[0],[1],[0],[0],[0],[0],[0],[0],[0],[0],[0],[0],[0],[0],[0],[0],[0],[0],[0],[0],[0],[0],[0],[0],[0],]}\n",
        "s12 = {'title': 'К', 'points': [1,0,0,1,0,1,0,1,0,0,1,1,0,0,0,1,1,0,0,0,1,0,1,0,0,1,0,0,1,0], 'targets': [[0], [0], [0], [0], [0], [0], [0], [0], [0], [0], [0], [1], [0], [0], [0], [0], [0], [0], [0], [0], [0], [0], [0], [0], [0], [0], [0], [0], [0], [0], [0], [0], [0]]}\n",
        "s13 = {'title': 'Л', 'points': [1,0,0,0,0,1,1,0,0,0,1,0,1,0,0,1,0,0,1,0,1,0,0,0,1,1,0,0,0,1], 'targets': [[0], [0], [0], [0], [0], [0], [0], [0], [0], [0], [0], [0], [1], [0], [0], [0], [0], [0], [0], [0], [0], [0], [0], [0], [0], [0], [0], [0], [0], [0], [0], [0], [0]]}\n",
        "s20 = {'title': 'Т', 'points': [1,1,1,1,1,0,0,1,0,0,0,0,1,0,0,0,0,1,0,0,0,0,1,0,0,0,0,1,0,0], 'targets': [[0],[0],[0],[0],[0],[0],[0],[0],[0],[0],[0],[0],[0],[0],[0],[0],[0],[0],[0],[1],[0],[0],[0],[0],[0],[0],[0],[0],[0],[0],[0],[0],[0],]}\n",
        "s25 = {'title': 'Ч', 'points': [1,0,0,1,0,1,0,0,1,0,1,0,0,1,0,1,1,1,1,0,0,0,0,1,0,0,0,0,1,0], 'targets': [[0], [0], [0], [0], [0], [0], [0], [0], [0], [0], [0], [0], [0], [0], [0], [0], [0], [0], [0], [0], [0], [0], [0], [0], [0], [1], [0], [0], [0], [0], [0], [0], [0]]}\n",
        "\n",
        "\n",
        "symbol = Symbol(s10)\n",
        "symbol.show()"
      ],
      "metadata": {
        "id": "v67kR7sMRrPw",
        "outputId": "ff8a661a-b7c4-4cc0-f875-4b85d60b0d90",
        "colab": {
          "base_uri": "https://localhost:8080/",
          "height": 435
        }
      },
      "execution_count": 187,
      "outputs": [
        {
          "output_type": "display_data",
          "data": {
            "text/plain": [
              "<Figure size 640x480 with 1 Axes>"
            ],
            "image/png": "[encoded data removed]"
          },
          "metadata": {}
        }
      ]
    }
  ],
  "metadata": {
    "colab": {
      "name": "Добро пожаловать в Colaboratory!",
      "toc_visible": true,
      "provenance": [],
      "include_colab_link": true
    },
    "kernelspec": {
      "display_name": "Python 3",
      "name": "python3"
    }
  },
  "nbformat": 4,
  "nbformat_minor": 0
}
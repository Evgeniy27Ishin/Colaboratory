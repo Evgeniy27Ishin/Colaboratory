{
  "cells": [
    {
      "cell_type": "markdown",
      "metadata": {
        "id": "view-in-github",
        "colab_type": "text"
      },
      "source": [
        "<a href=\"https://colab.research.google.com/github/Evgeniy27Ishin/Colaboratory/blob/main/Numpy.ipynb\" target=\"_parent\"><img src=\"https://colab.research.google.com/assets/colab-badge.svg\" alt=\"Open In Colab\"/></a>"
      ]
    },
    {
      "cell_type": "code",
      "source": [
        "import numpy as np\n",
        "import scipy\n",
        "\n",
        "\n",
        "I = np.array(([0.9, 0.1, 0.8]), ndmin=2).T\n",
        "t = np.array(([0.2, 0.09, 0.5]), ndmin=2).T\n",
        "W_i_h = np.array([[0.9, 0.3, 0.4], [0.2, 0.8, 0.2], [0.1, 0.5, 0.6]])\n",
        "W_h_o = np.array([[0.3, 0.7, 0.5], [0.6, 0.5, 0.2], [0.8, 0.1, 0.9]])\n",
        "\n",
        "for i in range(10000):\n",
        "  O_h = W_i_h.dot(I)\n",
        "  O_h = scipy.special.expit(O_h)\n",
        "  O = W_h_o.dot(O_h)\n",
        "  O = scipy.special.expit(O)\n",
        "\n",
        "  E_o = t - O\n",
        "  E_h = np.dot(W_h_o.T, E_o)\n",
        "  W_h_o += 0.1 * E_o * O * (1 - O) * O_h.T\n",
        "  W_i_h += 0.1 * E_h * O_h * (1 - O_h) * I.T\n",
        "\n",
        "print(O)"
      ],
      "metadata": {
        "colab": {
          "base_uri": "https://localhost:8080/"
        },
        "id": "tvqbS0_K98DF",
        "outputId": "15523053-f780-4192-c298-883c83a4acac"
      },
      "execution_count": 7,
      "outputs": [
        {
          "output_type": "stream",
          "name": "stdout",
          "text": [
            "[[0.2 ]\n",
            " [0.09]\n",
            " [0.5 ]]\n"
          ]
        }
      ]
    },
    {
      "cell_type": "code",
      "source": [
        "import numpy\n",
        "class NeuralNetwork:\n",
        "  def __init__(self, input_nodes, hidden_nodes, output_nodes, learning_rate):\n",
        "    self.input_nodes = input_nodes\n",
        "    self.hidden_nodes = hidden_nodes\n",
        "    self.output_nodes = output_nodes\n",
        "    self.learning_rate = learning_rate\n",
        "\n",
        "    np.random.seed(42)\n",
        "    self.W_i_h = np.random.normal(0.01, 0.99, (self.hidden_nodes, self.input_nodes))\n",
        "    self.W_h_o = np.random.normal(0.01, 0.99, (self.output_nodes, self.hidden_nodes))\n",
        "\n",
        "    self.lr = learning_rate\n",
        "\n",
        "    self.activation_function = lambda x: scipy.special.expit(x)\n",
        "\n",
        "  def forward(self, inputs):\n",
        "    inputs = np.array(inputs, ndmin=2).T\n",
        "    O_h = self.W_i_h.dot(I)\n",
        "    O_h = scipy.special.expit(O_h)\n",
        "    O = self.W_h_o.dot(O_h)\n",
        "    O = scipy.special.expit(O)\n",
        "    return O\n",
        "\n",
        "  def train (self, inputs_list, targets__list):\n",
        "    inputs = numpy.array(inputs_list, ndmin=2).T\n",
        "    targets = numpy.array(targets_list, ndmin=2).T\n",
        "    hidden_inputs = numpy.dot(self.W_i_h, inputs)\n",
        "    hidden_outputs = self.activation_function(hidden_inputs)\n",
        "    final_inputs = numpy.dot(self.W_h_o, hidden_outputs)\n",
        "    final_outputs = self.activation_function(final_inputs)\n",
        "    output_errors = targets - final__outputs\n",
        "    hidden_errors = numpy.dot(self.W_h_o.T, output_errors)\n",
        "    self.W_h_o += self.lr * numpy .dot ((output__errors * final_outputs * (1.0 - final_outputs)),numpy.transpose (hidden_outputs))\n",
        "    self.W_i_h += self.lr * numpy.dot((hidden_errors * hidden_outputs * (1.0 - hidden__outputs)),numpy.transpose(inputs))\n",
        "\n",
        "  def query(self, inputs_list):\n",
        "    inputs = numpy.array(inputs_list, ndmin=2).T\n",
        "    hidden_inputs = numpy.dot(self.W_i_h, inputs)\n",
        "    hidden_outputs = self.activation_function(hidden_inputs)\n",
        "    final_inputs = numpy.dot(self.W_h_o, hidden_outputs)\n",
        "    final_outputs = self.activation_function(final_inputs)\n",
        "    return final_outputs\n",
        "\n",
        "net = NeuralNetwork(3, 3, 3, 0.1)\n",
        "result = net.query([0.9, 0.1, 0.8])\n",
        "print(result)"
      ],
      "metadata": {
        "colab": {
          "base_uri": "https://localhost:8080/"
        },
        "id": "qN6DskCgDZRn",
        "outputId": "c131f7b4-dc77-49a4-e5a6-6294923d4653"
      },
      "execution_count": 34,
      "outputs": [
        {
          "output_type": "stream",
          "name": "stdout",
          "text": [
            "[[0.4286307 ]\n",
            " [0.07316002]\n",
            " [0.28708966]]\n"
          ]
        }
      ]
    }
  ],
  "metadata": {
    "colab": {
      "name": "Добро пожаловать в Colaboratory!",
      "toc_visible": true,
      "provenance": [],
      "include_colab_link": true
    },
    "kernelspec": {
      "display_name": "Python 3",
      "name": "python3"
    }
  },
  "nbformat": 4,
  "nbformat_minor": 0
}
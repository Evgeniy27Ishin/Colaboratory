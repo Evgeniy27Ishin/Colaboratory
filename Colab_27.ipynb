{
  "cells": [
    {
      "cell_type": "markdown",
      "metadata": {
        "id": "view-in-github",
        "colab_type": "text"
      },
      "source": [
        "<a href=\"https://colab.research.google.com/github/Evgeniy27Ishin/Colaboratory/blob/main/Colab_27.ipynb\" target=\"_parent\"><img src=\"https://colab.research.google.com/assets/colab-badge.svg\" alt=\"Open In Colab\"/></a>"
      ]
    },
    {
      "cell_type": "code",
      "source": [
        "import math\n",
        "\n",
        "def sigma(x):\n",
        "  return 1 / (1 + math.exp(-x))\n",
        "\n",
        "class Neuron:\n",
        "  def __init__(self, w1, w2):\n",
        "    self.w1 = w1\n",
        "    self.w2 = w2\n",
        "\n",
        "  def forward(self, x1, x2):\n",
        "    sum = x1*self.w1 + x2*self.w2\n",
        "    return sigma(sum)\n",
        "\n",
        "# первый нейрон\n",
        "n = Neuron(0.9, 0.3)\n",
        "result1 = n.forward(1.0, 0.5)\n",
        "print(result1)\n",
        "\n",
        "# второй нейрон\n",
        "n2 = Neuron(0.2, 0.8)\n",
        "result2 = (1.0, 0.5)\n",
        "print(result2)\n",
        "\n",
        "def mult(A, B):\n",
        "  result = []\n",
        "  A_rows = len(A)\n",
        "  A_cols = len(A[0])\n",
        "  B_rows = len(B)\n",
        "  B_cols = len(B[0])\n",
        "  if A_cols != B_rows:\n",
        "    print('Количество столбцов первой матрицы равно количеству строк второй матрицы!')\n",
        "    return\n",
        "\n",
        "  result = [[0 for row in range(B_cols)] for col in range(A_rows)]\n",
        "  for s in range(A_rows):\n",
        "    for j in range(B_cols):\n",
        "      for k in range(A_cols):\n",
        "        result[s][j] += A[s][k] * B[k][j]\n",
        "  return result\n",
        "\n",
        "\n",
        "def mult2(A, B):\n",
        "  result = []\n",
        "  A_rows = len(A)\n",
        "  A_cols = len(A[0])\n",
        "  B_rows = len(B)\n",
        "  if A_cols != B_rows:\n",
        "    print('Количество столбцов первой матрицы равно количеству строк второй матрицы!')\n",
        "    return\n",
        "\n",
        "  result = [0 for col in range(A_rows)]\n",
        "  for s in range(A_rows):\n",
        "    for k in range(A_cols):\n",
        "      result[s] += A[s][k] * B[k]\n",
        "  return result\n",
        "\n",
        "def f_activate(A):\n",
        "  res = []\n",
        "  for x in A:\n",
        "    res.append(sigma(x))\n",
        "  return res\n",
        "\n",
        "W = [[0.9, 0.3], [0.2, 0.8]]\n",
        "I = [1.0, 0.5]\n",
        "\n",
        "X = mult2(W, I)\n",
        "X = f_activate(X)\n",
        "print(X)"
      ],
      "metadata": {
        "colab": {
          "base_uri": "https://localhost:8080/"
        },
        "id": "UEMDCzq798p8",
        "outputId": "f8c1eb78-f132-4868-8f38-1b19965571b2"
      },
      "execution_count": null,
      "outputs": [
        {
          "output_type": "stream",
          "name": "stdout",
          "text": [
            "0.740774899182154\n",
            "(1.0, 0.5)\n",
            "[0.740774899182154, 0.6456563062257954]\n"
          ]
        }
      ]
    }
  ],
  "metadata": {
    "colab": {
      "name": "Добро пожаловать в Colaboratory!",
      "toc_visible": true,
      "provenance": [],
      "include_colab_link": true
    },
    "kernelspec": {
      "display_name": "Python 3",
      "name": "python3"
    }
  },
  "nbformat": 4,
  "nbformat_minor": 0
}
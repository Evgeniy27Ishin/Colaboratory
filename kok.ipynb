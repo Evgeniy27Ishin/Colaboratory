{
  "cells": [
    {
      "cell_type": "markdown",
      "metadata": {
        "id": "view-in-github",
        "colab_type": "text"
      },
      "source": [
        "<a href=\"https://colab.research.google.com/github/Evgeniy27Ishin/Colaboratory/blob/main/kok.ipynb\" target=\"_parent\"><img src=\"https://colab.research.google.com/assets/colab-badge.svg\" alt=\"Open In Colab\"/></a>"
      ]
    },
    {
      "cell_type": "code",
      "source": [
        "import numpy as np\n",
        "import scipy"
      ],
      "metadata": {
        "id": "lhHvMcFy7Ogh"
      },
      "execution_count": 33,
      "outputs": []
    },
    {
      "cell_type": "code",
      "source": [
        "I = np.array([0.9, 0.1, 0.8])\n",
        "W_i_h = np.array([[0.9, 0.3, 0.4], [0.2, 0.8, 0.2], [0.1, 0.5, 0.6]])\n",
        "W_h_o = np.array([[0.3, 0.7, 0.5], [0.6, 0.5, 0.2], [0.8, 0.1, 0.9]])\n",
        "\n",
        "O_h = W_i_h.dot(I)\n",
        "O_h = scipy.special.expit(O_h)\n",
        "\n",
        "O = W_h_o.dot(O_h)\n",
        "O = scipy.special.expit(O_h)\n",
        "\n",
        "O = scipy.special.expit(O)\n",
        "O"
      ],
      "metadata": {
        "id": "9G95AtPy9xc2",
        "outputId": "b9649611-e718-4de0-8c5c-7c8cf506a99f",
        "colab": {
          "base_uri": "https://localhost:8080/"
        }
      },
      "execution_count": 51,
      "outputs": [
        {
          "output_type": "execute_result",
          "data": {
            "text/plain": [
              "array([0.6641053 , 0.65621067, 0.65859958])"
            ]
          },
          "metadata": {},
          "execution_count": 51
        }
      ]
    }
  ],
  "metadata": {
    "colab": {
      "name": "Добро пожаловать в Colaboratory!",
      "toc_visible": true,
      "provenance": [],
      "include_colab_link": true
    },
    "kernelspec": {
      "display_name": "Python 3",
      "name": "python3"
    }
  },
  "nbformat": 4,
  "nbformat_minor": 0
}